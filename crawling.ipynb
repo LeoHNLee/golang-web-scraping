{
 "cells": [
  {
   "cell_type": "code",
   "execution_count": 18,
   "metadata": {
    "ExecuteTime": {
     "end_time": "2019-12-25T17:21:15.696422Z",
     "start_time": "2019-12-25T17:21:15.494546Z"
    }
   },
   "outputs": [],
   "source": [
    "from selenium import webdriver\n",
    "from selenium.webdriver.common.keys import Keys\n",
    "from selenium.common.exceptions import *\n",
    "\n",
    "from bs4 import BeautifulSoup\n",
    "\n",
    "import time"
   ]
  },
  {
   "cell_type": "code",
   "execution_count": 12,
   "metadata": {
    "ExecuteTime": {
     "end_time": "2019-12-25T16:52:35.882401Z",
     "start_time": "2019-12-25T16:52:35.878412Z"
    }
   },
   "outputs": [],
   "source": [
    "chrome_path = \"c:/webdrivers/chromedriver79.exe\"\n",
    "gecko_path = \"C:/webdrivers/geckodriver.exe\"\n",
    "naver_list = \"https://recruit.navercorp.com/naver/job/list/developer?\"\n",
    "naver_detail = \"https://recruit.navercorp.com/naver/job/detail/developer?\"\n",
    "category    = \"&entTypeCd=\"\n",
    "category_dict = {\n",
    "\"신입\": \"001\",\n",
    "\"경력\": \"002\",\n",
    "\"인턴\": \"004\",\n",
    "}\n",
    "anno_id = \"&annoId=\""
   ]
  },
  {
   "cell_type": "code",
   "execution_count": null,
   "metadata": {
    "ExecuteTime": {
     "end_time": "2019-12-25T16:52:50.828378Z",
     "start_time": "2019-12-25T16:52:43.178889Z"
    }
   },
   "outputs": [],
   "source": [
    "driver = webdriver.Chrome(chrome_path)"
   ]
  },
  {
   "cell_type": "code",
   "execution_count": 17,
   "metadata": {
    "ExecuteTime": {
     "end_time": "2019-12-25T17:18:49.993940Z",
     "start_time": "2019-12-25T17:18:49.165166Z"
    }
   },
   "outputs": [
    {
     "name": "stdout",
     "output_type": "stream",
     "text": [
      "신입\n"
     ]
    },
    {
     "ename": "TypeError",
     "evalue": "'WebElement' object is not iterable",
     "output_type": "error",
     "traceback": [
      "\u001b[1;31m---------------------------------------------------------------------------\u001b[0m",
      "\u001b[1;31mTypeError\u001b[0m                                 Traceback (most recent call last)",
      "\u001b[1;32m<ipython-input-17-c70296c8477a>\u001b[0m in \u001b[0;36m<module>\u001b[1;34m\u001b[0m\n\u001b[0;32m     11\u001b[0m \u001b[1;33m\u001b[0m\u001b[0m\n\u001b[0;32m     12\u001b[0m     \u001b[0melems\u001b[0m \u001b[1;33m=\u001b[0m \u001b[0mdriver\u001b[0m\u001b[1;33m.\u001b[0m\u001b[0mfind_element_by_class_name\u001b[0m\u001b[1;33m(\u001b[0m\u001b[1;34m\"list_con\"\u001b[0m\u001b[1;33m)\u001b[0m\u001b[1;33m\u001b[0m\u001b[1;33m\u001b[0m\u001b[0m\n\u001b[1;32m---> 13\u001b[1;33m     \u001b[1;32mfor\u001b[0m \u001b[0melem\u001b[0m \u001b[1;32min\u001b[0m \u001b[0melems\u001b[0m\u001b[1;33m:\u001b[0m\u001b[1;33m\u001b[0m\u001b[1;33m\u001b[0m\u001b[0m\n\u001b[0m\u001b[0;32m     14\u001b[0m         \u001b[0mprint\u001b[0m\u001b[1;33m(\u001b[0m\u001b[0melem\u001b[0m\u001b[1;33m.\u001b[0m\u001b[0mtext\u001b[0m\u001b[1;33m)\u001b[0m\u001b[1;33m\u001b[0m\u001b[1;33m\u001b[0m\u001b[0m\n\u001b[0;32m     15\u001b[0m     \u001b[1;32mbreak\u001b[0m\u001b[1;33m\u001b[0m\u001b[1;33m\u001b[0m\u001b[0m\n",
      "\u001b[1;31mTypeError\u001b[0m: 'WebElement' object is not iterable"
     ]
    }
   ],
   "source": [
    "for cat, val in category_dict.items():\n",
    "    print(cat)\n",
    "    driver.get(naver_list + category + val)\n",
    "    driver.implicitly_wait(3)\n",
    "    try:\n",
    "        more_button = driver.find_element_by_class_name(\"more_btn\")\n",
    "    except NoSuchElementException as e:\n",
    "        print(f\"{cat}: no more button\")\n",
    "    else:\n",
    "        more_button.click()\n",
    "    \n",
    "    page_sources = dirver.page_source()\n",
    "    \n",
    "    elems = driver.find_element_by_class_name(\"list_con\")\n",
    "    for elem in elems:\n",
    "        print(elem.text)\n",
    "    break"
   ]
  },
  {
   "cell_type": "code",
   "execution_count": null,
   "metadata": {},
   "outputs": [],
   "source": [
    "(\n",
    "\tseleniumPath    = \"c:/new-study/golang/src/github.com/tebeka/selenium/vendor/selenium-server.jar\"\n",
    "\tgeckoDriverPath = \"c:/new-study/golang/src/github.com/tebeka/selenium/vendor/geckodriver\"\n",
    "\tport            = 8080\n",
    "\topts            = []selenium.ServiceOption{\n",
    "\t\t// selenium.StartFrameBuffer(),\n",
    "\t\tselenium.GeckoDriver(geckoDriverPath),\n",
    "\t\t// selenium.Output(os.Stderr),\n",
    "\t}\n",
    "\tlocalhost = fmt.Sprintf(\"http://localhost:%d/wd/hub\", port)\n",
    ")\n",
    "\n",
    "var (\n",
    "\tnaverList   = \"https://recruit.navercorp.com/naver/job/list/developer?\"\n",
    "\tnaverDetail = \"https://recruit.navercorp.com/naver/job/detail/developer?\"\n",
    "\tcategory    = \"&entTypeCd=\"\n",
    "\tcategoryMap = map[string]string{\n",
    "\t\t// \"전체\": \"\",\n",
    "\t\t\"신입\": \"001\",\n",
    "\t\t\"경력\": \"002\",\n",
    "\t\t\"인턴\": \"004\",\n",
    "\t}\n",
    "\tannoID = \"&annoId=\""
   ]
  }
 ],
 "metadata": {
  "kernelspec": {
   "display_name": "Python 3",
   "language": "python",
   "name": "python3"
  },
  "language_info": {
   "codemirror_mode": {
    "name": "ipython",
    "version": 3
   },
   "file_extension": ".py",
   "mimetype": "text/x-python",
   "name": "python",
   "nbconvert_exporter": "python",
   "pygments_lexer": "ipython3",
   "version": "3.6.7"
  },
  "latex_envs": {
   "LaTeX_envs_menu_present": true,
   "autoclose": false,
   "autocomplete": true,
   "bibliofile": "biblio.bib",
   "cite_by": "apalike",
   "current_citInitial": 1,
   "eqLabelWithNumbers": true,
   "eqNumInitial": 1,
   "hotkeys": {
    "equation": "Ctrl-E",
    "itemize": "Ctrl-I"
   },
   "labels_anchors": false,
   "latex_user_defs": false,
   "report_style_numbering": false,
   "user_envs_cfg": false
  }
 },
 "nbformat": 4,
 "nbformat_minor": 2
}
